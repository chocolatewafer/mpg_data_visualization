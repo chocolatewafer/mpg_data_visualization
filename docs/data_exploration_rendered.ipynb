{
 "cells": [
  {
   "cell_type": "code",
   "execution_count": 96,
   "id": "9e0509eb",
   "metadata": {},
   "outputs": [],
   "source": [
    "import pandas as pd\n",
    "import plotly as plt\n",
    "import plotly.graph_objects as go\n",
    "import plotly.express as px\n",
    "import kaleido\n"
   ]
  },
  {
   "cell_type": "markdown",
   "id": "e1c04782",
   "metadata": {},
   "source": [
    "# Data Visualization of seaborn-data\n",
    "Analyzing mpg.csv data from seaborn-data dataset: https://github.com/mwaskom/seaborn-data/blob/master/mpg.csv\n",
    "\n",
    "I am using Plotly and Streamlit for this task."
   ]
  },
  {
   "cell_type": "code",
   "execution_count": 97,
   "id": "20d1eeff",
   "metadata": {},
   "outputs": [
    {
     "data": {
      "text/html": [
       "<div>\n",
       "<style scoped>\n",
       "    .dataframe tbody tr th:only-of-type {\n",
       "        vertical-align: middle;\n",
       "    }\n",
       "\n",
       "    .dataframe tbody tr th {\n",
       "        vertical-align: top;\n",
       "    }\n",
       "\n",
       "    .dataframe thead th {\n",
       "        text-align: right;\n",
       "    }\n",
       "</style>\n",
       "<table border=\"1\" class=\"dataframe\">\n",
       "  <thead>\n",
       "    <tr style=\"text-align: right;\">\n",
       "      <th></th>\n",
       "      <th>mpg</th>\n",
       "      <th>cylinders</th>\n",
       "      <th>displacement</th>\n",
       "      <th>horsepower</th>\n",
       "      <th>weight</th>\n",
       "      <th>acceleration</th>\n",
       "      <th>model_year</th>\n",
       "      <th>origin</th>\n",
       "      <th>name</th>\n",
       "    </tr>\n",
       "  </thead>\n",
       "  <tbody>\n",
       "    <tr>\n",
       "      <th>0</th>\n",
       "      <td>18.0</td>\n",
       "      <td>8</td>\n",
       "      <td>307.0</td>\n",
       "      <td>130.0</td>\n",
       "      <td>3504</td>\n",
       "      <td>12.0</td>\n",
       "      <td>70</td>\n",
       "      <td>usa</td>\n",
       "      <td>chevrolet chevelle malibu</td>\n",
       "    </tr>\n",
       "    <tr>\n",
       "      <th>1</th>\n",
       "      <td>15.0</td>\n",
       "      <td>8</td>\n",
       "      <td>350.0</td>\n",
       "      <td>165.0</td>\n",
       "      <td>3693</td>\n",
       "      <td>11.5</td>\n",
       "      <td>70</td>\n",
       "      <td>usa</td>\n",
       "      <td>buick skylark 320</td>\n",
       "    </tr>\n",
       "    <tr>\n",
       "      <th>2</th>\n",
       "      <td>18.0</td>\n",
       "      <td>8</td>\n",
       "      <td>318.0</td>\n",
       "      <td>150.0</td>\n",
       "      <td>3436</td>\n",
       "      <td>11.0</td>\n",
       "      <td>70</td>\n",
       "      <td>usa</td>\n",
       "      <td>plymouth satellite</td>\n",
       "    </tr>\n",
       "    <tr>\n",
       "      <th>3</th>\n",
       "      <td>16.0</td>\n",
       "      <td>8</td>\n",
       "      <td>304.0</td>\n",
       "      <td>150.0</td>\n",
       "      <td>3433</td>\n",
       "      <td>12.0</td>\n",
       "      <td>70</td>\n",
       "      <td>usa</td>\n",
       "      <td>amc rebel sst</td>\n",
       "    </tr>\n",
       "    <tr>\n",
       "      <th>4</th>\n",
       "      <td>17.0</td>\n",
       "      <td>8</td>\n",
       "      <td>302.0</td>\n",
       "      <td>140.0</td>\n",
       "      <td>3449</td>\n",
       "      <td>10.5</td>\n",
       "      <td>70</td>\n",
       "      <td>usa</td>\n",
       "      <td>ford torino</td>\n",
       "    </tr>\n",
       "    <tr>\n",
       "      <th>5</th>\n",
       "      <td>15.0</td>\n",
       "      <td>8</td>\n",
       "      <td>429.0</td>\n",
       "      <td>198.0</td>\n",
       "      <td>4341</td>\n",
       "      <td>10.0</td>\n",
       "      <td>70</td>\n",
       "      <td>usa</td>\n",
       "      <td>ford galaxie 500</td>\n",
       "    </tr>\n",
       "    <tr>\n",
       "      <th>6</th>\n",
       "      <td>14.0</td>\n",
       "      <td>8</td>\n",
       "      <td>454.0</td>\n",
       "      <td>220.0</td>\n",
       "      <td>4354</td>\n",
       "      <td>9.0</td>\n",
       "      <td>70</td>\n",
       "      <td>usa</td>\n",
       "      <td>chevrolet impala</td>\n",
       "    </tr>\n",
       "    <tr>\n",
       "      <th>7</th>\n",
       "      <td>14.0</td>\n",
       "      <td>8</td>\n",
       "      <td>440.0</td>\n",
       "      <td>215.0</td>\n",
       "      <td>4312</td>\n",
       "      <td>8.5</td>\n",
       "      <td>70</td>\n",
       "      <td>usa</td>\n",
       "      <td>plymouth fury iii</td>\n",
       "    </tr>\n",
       "    <tr>\n",
       "      <th>8</th>\n",
       "      <td>14.0</td>\n",
       "      <td>8</td>\n",
       "      <td>455.0</td>\n",
       "      <td>225.0</td>\n",
       "      <td>4425</td>\n",
       "      <td>10.0</td>\n",
       "      <td>70</td>\n",
       "      <td>usa</td>\n",
       "      <td>pontiac catalina</td>\n",
       "    </tr>\n",
       "    <tr>\n",
       "      <th>9</th>\n",
       "      <td>15.0</td>\n",
       "      <td>8</td>\n",
       "      <td>390.0</td>\n",
       "      <td>190.0</td>\n",
       "      <td>3850</td>\n",
       "      <td>8.5</td>\n",
       "      <td>70</td>\n",
       "      <td>usa</td>\n",
       "      <td>amc ambassador dpl</td>\n",
       "    </tr>\n",
       "  </tbody>\n",
       "</table>\n",
       "</div>"
      ],
      "text/plain": [
       "    mpg  cylinders  displacement  horsepower  weight  acceleration  \\\n",
       "0  18.0          8         307.0       130.0    3504          12.0   \n",
       "1  15.0          8         350.0       165.0    3693          11.5   \n",
       "2  18.0          8         318.0       150.0    3436          11.0   \n",
       "3  16.0          8         304.0       150.0    3433          12.0   \n",
       "4  17.0          8         302.0       140.0    3449          10.5   \n",
       "5  15.0          8         429.0       198.0    4341          10.0   \n",
       "6  14.0          8         454.0       220.0    4354           9.0   \n",
       "7  14.0          8         440.0       215.0    4312           8.5   \n",
       "8  14.0          8         455.0       225.0    4425          10.0   \n",
       "9  15.0          8         390.0       190.0    3850           8.5   \n",
       "\n",
       "   model_year origin                       name  \n",
       "0          70    usa  chevrolet chevelle malibu  \n",
       "1          70    usa          buick skylark 320  \n",
       "2          70    usa         plymouth satellite  \n",
       "3          70    usa              amc rebel sst  \n",
       "4          70    usa                ford torino  \n",
       "5          70    usa           ford galaxie 500  \n",
       "6          70    usa           chevrolet impala  \n",
       "7          70    usa          plymouth fury iii  \n",
       "8          70    usa           pontiac catalina  \n",
       "9          70    usa         amc ambassador dpl  "
      ]
     },
     "execution_count": 97,
     "metadata": {},
     "output_type": "execute_result"
    }
   ],
   "source": [
    "mpg_data = pd.read_csv('https://raw.githubusercontent.com/mwaskom/seaborn-data/refs/heads/master/mpg.csv')\n",
    "# or read from data/mpg.csv\n",
    "mpg_data.head(10)"
   ]
  },
  {
   "cell_type": "markdown",
   "id": "3c6480f2",
   "metadata": {},
   "source": [
    "### Initial Observation\n",
    "The car dataset has many models of cars produced across different years. The origin and engine performance metrics are listed out."
   ]
  },
  {
   "cell_type": "markdown",
   "id": "a5241b37",
   "metadata": {},
   "source": [
    "## Reading and cleaning dataset"
   ]
  },
  {
   "cell_type": "markdown",
   "id": "160c92ba",
   "metadata": {},
   "source": [
    "### Check for missing values"
   ]
  },
  {
   "cell_type": "code",
   "execution_count": 98,
   "id": "2c05f0c9",
   "metadata": {},
   "outputs": [
    {
     "data": {
      "text/plain": [
       "mpg             0\n",
       "cylinders       0\n",
       "displacement    0\n",
       "horsepower      6\n",
       "weight          0\n",
       "acceleration    0\n",
       "model_year      0\n",
       "origin          0\n",
       "name            0\n",
       "dtype: int64"
      ]
     },
     "execution_count": 98,
     "metadata": {},
     "output_type": "execute_result"
    }
   ],
   "source": [
    "mpg_data.isna().sum()"
   ]
  },
  {
   "cell_type": "code",
   "execution_count": 99,
   "id": "1ceb427b",
   "metadata": {},
   "outputs": [
    {
     "data": {
      "text/html": [
       "<div>\n",
       "<style scoped>\n",
       "    .dataframe tbody tr th:only-of-type {\n",
       "        vertical-align: middle;\n",
       "    }\n",
       "\n",
       "    .dataframe tbody tr th {\n",
       "        vertical-align: top;\n",
       "    }\n",
       "\n",
       "    .dataframe thead th {\n",
       "        text-align: right;\n",
       "    }\n",
       "</style>\n",
       "<table border=\"1\" class=\"dataframe\">\n",
       "  <thead>\n",
       "    <tr style=\"text-align: right;\">\n",
       "      <th></th>\n",
       "      <th>mpg</th>\n",
       "      <th>cylinders</th>\n",
       "      <th>displacement</th>\n",
       "      <th>horsepower</th>\n",
       "      <th>weight</th>\n",
       "      <th>acceleration</th>\n",
       "      <th>model_year</th>\n",
       "      <th>origin</th>\n",
       "      <th>name</th>\n",
       "    </tr>\n",
       "  </thead>\n",
       "  <tbody>\n",
       "    <tr>\n",
       "      <th>32</th>\n",
       "      <td>25.0</td>\n",
       "      <td>4</td>\n",
       "      <td>98.0</td>\n",
       "      <td>NaN</td>\n",
       "      <td>2046</td>\n",
       "      <td>19.0</td>\n",
       "      <td>71</td>\n",
       "      <td>usa</td>\n",
       "      <td>ford pinto</td>\n",
       "    </tr>\n",
       "    <tr>\n",
       "      <th>126</th>\n",
       "      <td>21.0</td>\n",
       "      <td>6</td>\n",
       "      <td>200.0</td>\n",
       "      <td>NaN</td>\n",
       "      <td>2875</td>\n",
       "      <td>17.0</td>\n",
       "      <td>74</td>\n",
       "      <td>usa</td>\n",
       "      <td>ford maverick</td>\n",
       "    </tr>\n",
       "    <tr>\n",
       "      <th>330</th>\n",
       "      <td>40.9</td>\n",
       "      <td>4</td>\n",
       "      <td>85.0</td>\n",
       "      <td>NaN</td>\n",
       "      <td>1835</td>\n",
       "      <td>17.3</td>\n",
       "      <td>80</td>\n",
       "      <td>europe</td>\n",
       "      <td>renault lecar deluxe</td>\n",
       "    </tr>\n",
       "    <tr>\n",
       "      <th>336</th>\n",
       "      <td>23.6</td>\n",
       "      <td>4</td>\n",
       "      <td>140.0</td>\n",
       "      <td>NaN</td>\n",
       "      <td>2905</td>\n",
       "      <td>14.3</td>\n",
       "      <td>80</td>\n",
       "      <td>usa</td>\n",
       "      <td>ford mustang cobra</td>\n",
       "    </tr>\n",
       "    <tr>\n",
       "      <th>354</th>\n",
       "      <td>34.5</td>\n",
       "      <td>4</td>\n",
       "      <td>100.0</td>\n",
       "      <td>NaN</td>\n",
       "      <td>2320</td>\n",
       "      <td>15.8</td>\n",
       "      <td>81</td>\n",
       "      <td>europe</td>\n",
       "      <td>renault 18i</td>\n",
       "    </tr>\n",
       "    <tr>\n",
       "      <th>374</th>\n",
       "      <td>23.0</td>\n",
       "      <td>4</td>\n",
       "      <td>151.0</td>\n",
       "      <td>NaN</td>\n",
       "      <td>3035</td>\n",
       "      <td>20.5</td>\n",
       "      <td>82</td>\n",
       "      <td>usa</td>\n",
       "      <td>amc concord dl</td>\n",
       "    </tr>\n",
       "  </tbody>\n",
       "</table>\n",
       "</div>"
      ],
      "text/plain": [
       "      mpg  cylinders  displacement  horsepower  weight  acceleration  \\\n",
       "32   25.0          4          98.0         NaN    2046          19.0   \n",
       "126  21.0          6         200.0         NaN    2875          17.0   \n",
       "330  40.9          4          85.0         NaN    1835          17.3   \n",
       "336  23.6          4         140.0         NaN    2905          14.3   \n",
       "354  34.5          4         100.0         NaN    2320          15.8   \n",
       "374  23.0          4         151.0         NaN    3035          20.5   \n",
       "\n",
       "     model_year  origin                  name  \n",
       "32           71     usa            ford pinto  \n",
       "126          74     usa         ford maverick  \n",
       "330          80  europe  renault lecar deluxe  \n",
       "336          80     usa    ford mustang cobra  \n",
       "354          81  europe           renault 18i  \n",
       "374          82     usa        amc concord dl  "
      ]
     },
     "execution_count": 99,
     "metadata": {},
     "output_type": "execute_result"
    }
   ],
   "source": [
    "mpg_data[mpg_data.isna().any(axis=1)]"
   ]
  },
  {
   "cell_type": "code",
   "execution_count": 100,
   "id": "00c33640",
   "metadata": {},
   "outputs": [],
   "source": [
    "mpg_data.dropna(inplace=True)"
   ]
  },
  {
   "cell_type": "code",
   "execution_count": 101,
   "id": "201a4da4",
   "metadata": {},
   "outputs": [],
   "source": [
    "mpg_data['horsepower'] = pd.to_numeric(mpg_data['horsepower'])"
   ]
  },
  {
   "cell_type": "markdown",
   "id": "1f13da25",
   "metadata": {},
   "source": [
    "## Summary of the Data"
   ]
  },
  {
   "cell_type": "code",
   "execution_count": 102,
   "id": "35240240",
   "metadata": {},
   "outputs": [
    {
     "data": {
      "text/html": [
       "<div>\n",
       "<style scoped>\n",
       "    .dataframe tbody tr th:only-of-type {\n",
       "        vertical-align: middle;\n",
       "    }\n",
       "\n",
       "    .dataframe tbody tr th {\n",
       "        vertical-align: top;\n",
       "    }\n",
       "\n",
       "    .dataframe thead th {\n",
       "        text-align: right;\n",
       "    }\n",
       "</style>\n",
       "<table border=\"1\" class=\"dataframe\">\n",
       "  <thead>\n",
       "    <tr style=\"text-align: right;\">\n",
       "      <th></th>\n",
       "      <th>mpg</th>\n",
       "      <th>cylinders</th>\n",
       "      <th>displacement</th>\n",
       "      <th>horsepower</th>\n",
       "      <th>weight</th>\n",
       "      <th>acceleration</th>\n",
       "      <th>model_year</th>\n",
       "    </tr>\n",
       "  </thead>\n",
       "  <tbody>\n",
       "    <tr>\n",
       "      <th>count</th>\n",
       "      <td>392.000000</td>\n",
       "      <td>392.000000</td>\n",
       "      <td>392.000000</td>\n",
       "      <td>392.000000</td>\n",
       "      <td>392.000000</td>\n",
       "      <td>392.000000</td>\n",
       "      <td>392.000000</td>\n",
       "    </tr>\n",
       "    <tr>\n",
       "      <th>mean</th>\n",
       "      <td>23.445918</td>\n",
       "      <td>5.471939</td>\n",
       "      <td>194.411990</td>\n",
       "      <td>104.469388</td>\n",
       "      <td>2977.584184</td>\n",
       "      <td>15.541327</td>\n",
       "      <td>75.979592</td>\n",
       "    </tr>\n",
       "    <tr>\n",
       "      <th>std</th>\n",
       "      <td>7.805007</td>\n",
       "      <td>1.705783</td>\n",
       "      <td>104.644004</td>\n",
       "      <td>38.491160</td>\n",
       "      <td>849.402560</td>\n",
       "      <td>2.758864</td>\n",
       "      <td>3.683737</td>\n",
       "    </tr>\n",
       "    <tr>\n",
       "      <th>min</th>\n",
       "      <td>9.000000</td>\n",
       "      <td>3.000000</td>\n",
       "      <td>68.000000</td>\n",
       "      <td>46.000000</td>\n",
       "      <td>1613.000000</td>\n",
       "      <td>8.000000</td>\n",
       "      <td>70.000000</td>\n",
       "    </tr>\n",
       "    <tr>\n",
       "      <th>25%</th>\n",
       "      <td>17.000000</td>\n",
       "      <td>4.000000</td>\n",
       "      <td>105.000000</td>\n",
       "      <td>75.000000</td>\n",
       "      <td>2225.250000</td>\n",
       "      <td>13.775000</td>\n",
       "      <td>73.000000</td>\n",
       "    </tr>\n",
       "    <tr>\n",
       "      <th>50%</th>\n",
       "      <td>22.750000</td>\n",
       "      <td>4.000000</td>\n",
       "      <td>151.000000</td>\n",
       "      <td>93.500000</td>\n",
       "      <td>2803.500000</td>\n",
       "      <td>15.500000</td>\n",
       "      <td>76.000000</td>\n",
       "    </tr>\n",
       "    <tr>\n",
       "      <th>75%</th>\n",
       "      <td>29.000000</td>\n",
       "      <td>8.000000</td>\n",
       "      <td>275.750000</td>\n",
       "      <td>126.000000</td>\n",
       "      <td>3614.750000</td>\n",
       "      <td>17.025000</td>\n",
       "      <td>79.000000</td>\n",
       "    </tr>\n",
       "    <tr>\n",
       "      <th>max</th>\n",
       "      <td>46.600000</td>\n",
       "      <td>8.000000</td>\n",
       "      <td>455.000000</td>\n",
       "      <td>230.000000</td>\n",
       "      <td>5140.000000</td>\n",
       "      <td>24.800000</td>\n",
       "      <td>82.000000</td>\n",
       "    </tr>\n",
       "  </tbody>\n",
       "</table>\n",
       "</div>"
      ],
      "text/plain": [
       "              mpg   cylinders  displacement  horsepower       weight  \\\n",
       "count  392.000000  392.000000    392.000000  392.000000   392.000000   \n",
       "mean    23.445918    5.471939    194.411990  104.469388  2977.584184   \n",
       "std      7.805007    1.705783    104.644004   38.491160   849.402560   \n",
       "min      9.000000    3.000000     68.000000   46.000000  1613.000000   \n",
       "25%     17.000000    4.000000    105.000000   75.000000  2225.250000   \n",
       "50%     22.750000    4.000000    151.000000   93.500000  2803.500000   \n",
       "75%     29.000000    8.000000    275.750000  126.000000  3614.750000   \n",
       "max     46.600000    8.000000    455.000000  230.000000  5140.000000   \n",
       "\n",
       "       acceleration  model_year  \n",
       "count    392.000000  392.000000  \n",
       "mean      15.541327   75.979592  \n",
       "std        2.758864    3.683737  \n",
       "min        8.000000   70.000000  \n",
       "25%       13.775000   73.000000  \n",
       "50%       15.500000   76.000000  \n",
       "75%       17.025000   79.000000  \n",
       "max       24.800000   82.000000  "
      ]
     },
     "execution_count": 102,
     "metadata": {},
     "output_type": "execute_result"
    }
   ],
   "source": [
    "mpg_data.describe()"
   ]
  },
  {
   "cell_type": "code",
   "execution_count": 103,
   "id": "0898271a",
   "metadata": {},
   "outputs": [
    {
     "data": {
      "text/html": [
       "<div>\n",
       "<style scoped>\n",
       "    .dataframe tbody tr th:only-of-type {\n",
       "        vertical-align: middle;\n",
       "    }\n",
       "\n",
       "    .dataframe tbody tr th {\n",
       "        vertical-align: top;\n",
       "    }\n",
       "\n",
       "    .dataframe thead th {\n",
       "        text-align: right;\n",
       "    }\n",
       "</style>\n",
       "<table border=\"1\" class=\"dataframe\">\n",
       "  <thead>\n",
       "    <tr style=\"text-align: right;\">\n",
       "      <th></th>\n",
       "      <th>mpg</th>\n",
       "      <th>cylinders</th>\n",
       "      <th>displacement</th>\n",
       "      <th>horsepower</th>\n",
       "      <th>weight</th>\n",
       "      <th>acceleration</th>\n",
       "      <th>model_year</th>\n",
       "      <th>origin</th>\n",
       "      <th>name</th>\n",
       "    </tr>\n",
       "  </thead>\n",
       "  <tbody>\n",
       "    <tr>\n",
       "      <th>116</th>\n",
       "      <td>16.0</td>\n",
       "      <td>8</td>\n",
       "      <td>400.0</td>\n",
       "      <td>230.0</td>\n",
       "      <td>4278</td>\n",
       "      <td>9.5</td>\n",
       "      <td>73</td>\n",
       "      <td>usa</td>\n",
       "      <td>pontiac grand prix</td>\n",
       "    </tr>\n",
       "  </tbody>\n",
       "</table>\n",
       "</div>"
      ],
      "text/plain": [
       "      mpg  cylinders  displacement  horsepower  weight  acceleration  \\\n",
       "116  16.0          8         400.0       230.0    4278           9.5   \n",
       "\n",
       "     model_year origin                name  \n",
       "116          73    usa  pontiac grand prix  "
      ]
     },
     "execution_count": 103,
     "metadata": {},
     "output_type": "execute_result"
    }
   ],
   "source": [
    "mpg_data.loc[mpg_data['horsepower'] == mpg_data['horsepower'].max()]"
   ]
  },
  {
   "cell_type": "code",
   "execution_count": 104,
   "id": "d4ed8282",
   "metadata": {},
   "outputs": [
    {
     "data": {
      "text/html": [
       "<div>\n",
       "<style scoped>\n",
       "    .dataframe tbody tr th:only-of-type {\n",
       "        vertical-align: middle;\n",
       "    }\n",
       "\n",
       "    .dataframe tbody tr th {\n",
       "        vertical-align: top;\n",
       "    }\n",
       "\n",
       "    .dataframe thead th {\n",
       "        text-align: right;\n",
       "    }\n",
       "</style>\n",
       "<table border=\"1\" class=\"dataframe\">\n",
       "  <thead>\n",
       "    <tr style=\"text-align: right;\">\n",
       "      <th></th>\n",
       "      <th>mpg</th>\n",
       "      <th>cylinders</th>\n",
       "      <th>displacement</th>\n",
       "      <th>horsepower</th>\n",
       "      <th>weight</th>\n",
       "      <th>acceleration</th>\n",
       "      <th>model_year</th>\n",
       "      <th>origin</th>\n",
       "      <th>name</th>\n",
       "    </tr>\n",
       "  </thead>\n",
       "  <tbody>\n",
       "    <tr>\n",
       "      <th>299</th>\n",
       "      <td>27.2</td>\n",
       "      <td>4</td>\n",
       "      <td>141.0</td>\n",
       "      <td>71.0</td>\n",
       "      <td>3190</td>\n",
       "      <td>24.8</td>\n",
       "      <td>79</td>\n",
       "      <td>europe</td>\n",
       "      <td>peugeot 504</td>\n",
       "    </tr>\n",
       "  </tbody>\n",
       "</table>\n",
       "</div>"
      ],
      "text/plain": [
       "      mpg  cylinders  displacement  horsepower  weight  acceleration  \\\n",
       "299  27.2          4         141.0        71.0    3190          24.8   \n",
       "\n",
       "     model_year  origin         name  \n",
       "299          79  europe  peugeot 504  "
      ]
     },
     "execution_count": 104,
     "metadata": {},
     "output_type": "execute_result"
    }
   ],
   "source": [
    "mpg_data.loc[mpg_data['acceleration'] == mpg_data['acceleration'].max()]"
   ]
  },
  {
   "cell_type": "code",
   "execution_count": 105,
   "id": "2238d61a",
   "metadata": {},
   "outputs": [
    {
     "data": {
      "text/html": [
       "<div>\n",
       "<style scoped>\n",
       "    .dataframe tbody tr th:only-of-type {\n",
       "        vertical-align: middle;\n",
       "    }\n",
       "\n",
       "    .dataframe tbody tr th {\n",
       "        vertical-align: top;\n",
       "    }\n",
       "\n",
       "    .dataframe thead th {\n",
       "        text-align: right;\n",
       "    }\n",
       "</style>\n",
       "<table border=\"1\" class=\"dataframe\">\n",
       "  <thead>\n",
       "    <tr style=\"text-align: right;\">\n",
       "      <th></th>\n",
       "      <th>mpg</th>\n",
       "      <th>cylinders</th>\n",
       "      <th>displacement</th>\n",
       "      <th>horsepower</th>\n",
       "      <th>weight</th>\n",
       "      <th>acceleration</th>\n",
       "      <th>model_year</th>\n",
       "      <th>origin</th>\n",
       "      <th>name</th>\n",
       "    </tr>\n",
       "  </thead>\n",
       "  <tbody>\n",
       "    <tr>\n",
       "      <th>322</th>\n",
       "      <td>46.6</td>\n",
       "      <td>4</td>\n",
       "      <td>86.0</td>\n",
       "      <td>65.0</td>\n",
       "      <td>2110</td>\n",
       "      <td>17.9</td>\n",
       "      <td>80</td>\n",
       "      <td>japan</td>\n",
       "      <td>mazda glc</td>\n",
       "    </tr>\n",
       "  </tbody>\n",
       "</table>\n",
       "</div>"
      ],
      "text/plain": [
       "      mpg  cylinders  displacement  horsepower  weight  acceleration  \\\n",
       "322  46.6          4          86.0        65.0    2110          17.9   \n",
       "\n",
       "     model_year origin       name  \n",
       "322          80  japan  mazda glc  "
      ]
     },
     "execution_count": 105,
     "metadata": {},
     "output_type": "execute_result"
    }
   ],
   "source": [
    "mpg_data.loc[mpg_data['mpg'] == mpg_data['mpg'].max()]"
   ]
  },
  {
   "cell_type": "code",
   "execution_count": 106,
   "id": "43447491",
   "metadata": {},
   "outputs": [
    {
     "data": {
      "text/html": [
       "<div>\n",
       "<style scoped>\n",
       "    .dataframe tbody tr th:only-of-type {\n",
       "        vertical-align: middle;\n",
       "    }\n",
       "\n",
       "    .dataframe tbody tr th {\n",
       "        vertical-align: top;\n",
       "    }\n",
       "\n",
       "    .dataframe thead th {\n",
       "        text-align: right;\n",
       "    }\n",
       "</style>\n",
       "<table border=\"1\" class=\"dataframe\">\n",
       "  <thead>\n",
       "    <tr style=\"text-align: right;\">\n",
       "      <th></th>\n",
       "      <th>mpg</th>\n",
       "      <th>cylinders</th>\n",
       "      <th>displacement</th>\n",
       "      <th>horsepower</th>\n",
       "      <th>weight</th>\n",
       "      <th>acceleration</th>\n",
       "      <th>model_year</th>\n",
       "      <th>origin</th>\n",
       "      <th>name</th>\n",
       "    </tr>\n",
       "  </thead>\n",
       "  <tbody>\n",
       "    <tr>\n",
       "      <th>28</th>\n",
       "      <td>9.0</td>\n",
       "      <td>8</td>\n",
       "      <td>304.0</td>\n",
       "      <td>193.0</td>\n",
       "      <td>4732</td>\n",
       "      <td>18.5</td>\n",
       "      <td>70</td>\n",
       "      <td>usa</td>\n",
       "      <td>hi 1200d</td>\n",
       "    </tr>\n",
       "  </tbody>\n",
       "</table>\n",
       "</div>"
      ],
      "text/plain": [
       "    mpg  cylinders  displacement  horsepower  weight  acceleration  \\\n",
       "28  9.0          8         304.0       193.0    4732          18.5   \n",
       "\n",
       "    model_year origin      name  \n",
       "28          70    usa  hi 1200d  "
      ]
     },
     "execution_count": 106,
     "metadata": {},
     "output_type": "execute_result"
    }
   ],
   "source": [
    "mpg_data.loc[mpg_data['mpg'] == mpg_data['mpg'].min()]"
   ]
  },
  {
   "cell_type": "code",
   "execution_count": 107,
   "id": "5c04084b",
   "metadata": {},
   "outputs": [
    {
     "data": {
      "text/html": [
       "<div>\n",
       "<style scoped>\n",
       "    .dataframe tbody tr th:only-of-type {\n",
       "        vertical-align: middle;\n",
       "    }\n",
       "\n",
       "    .dataframe tbody tr th {\n",
       "        vertical-align: top;\n",
       "    }\n",
       "\n",
       "    .dataframe thead th {\n",
       "        text-align: right;\n",
       "    }\n",
       "</style>\n",
       "<table border=\"1\" class=\"dataframe\">\n",
       "  <thead>\n",
       "    <tr style=\"text-align: right;\">\n",
       "      <th></th>\n",
       "      <th>mpg</th>\n",
       "      <th>cylinders</th>\n",
       "      <th>displacement</th>\n",
       "      <th>horsepower</th>\n",
       "      <th>weight</th>\n",
       "      <th>acceleration</th>\n",
       "      <th>model_year</th>\n",
       "      <th>origin</th>\n",
       "      <th>name</th>\n",
       "    </tr>\n",
       "  </thead>\n",
       "  <tbody>\n",
       "    <tr>\n",
       "      <th>71</th>\n",
       "      <td>19.0</td>\n",
       "      <td>3</td>\n",
       "      <td>70.0</td>\n",
       "      <td>97.0</td>\n",
       "      <td>2330</td>\n",
       "      <td>13.5</td>\n",
       "      <td>72</td>\n",
       "      <td>japan</td>\n",
       "      <td>mazda rx2 coupe</td>\n",
       "    </tr>\n",
       "    <tr>\n",
       "      <th>111</th>\n",
       "      <td>18.0</td>\n",
       "      <td>3</td>\n",
       "      <td>70.0</td>\n",
       "      <td>90.0</td>\n",
       "      <td>2124</td>\n",
       "      <td>13.5</td>\n",
       "      <td>73</td>\n",
       "      <td>japan</td>\n",
       "      <td>maxda rx3</td>\n",
       "    </tr>\n",
       "    <tr>\n",
       "      <th>243</th>\n",
       "      <td>21.5</td>\n",
       "      <td>3</td>\n",
       "      <td>80.0</td>\n",
       "      <td>110.0</td>\n",
       "      <td>2720</td>\n",
       "      <td>13.5</td>\n",
       "      <td>77</td>\n",
       "      <td>japan</td>\n",
       "      <td>mazda rx-4</td>\n",
       "    </tr>\n",
       "    <tr>\n",
       "      <th>334</th>\n",
       "      <td>23.7</td>\n",
       "      <td>3</td>\n",
       "      <td>70.0</td>\n",
       "      <td>100.0</td>\n",
       "      <td>2420</td>\n",
       "      <td>12.5</td>\n",
       "      <td>80</td>\n",
       "      <td>japan</td>\n",
       "      <td>mazda rx-7 gs</td>\n",
       "    </tr>\n",
       "  </tbody>\n",
       "</table>\n",
       "</div>"
      ],
      "text/plain": [
       "      mpg  cylinders  displacement  horsepower  weight  acceleration  \\\n",
       "71   19.0          3          70.0        97.0    2330          13.5   \n",
       "111  18.0          3          70.0        90.0    2124          13.5   \n",
       "243  21.5          3          80.0       110.0    2720          13.5   \n",
       "334  23.7          3          70.0       100.0    2420          12.5   \n",
       "\n",
       "     model_year origin             name  \n",
       "71           72  japan  mazda rx2 coupe  \n",
       "111          73  japan        maxda rx3  \n",
       "243          77  japan       mazda rx-4  \n",
       "334          80  japan    mazda rx-7 gs  "
      ]
     },
     "execution_count": 107,
     "metadata": {},
     "output_type": "execute_result"
    }
   ],
   "source": [
    "mpg_data.loc[mpg_data['cylinders']==3]"
   ]
  },
  {
   "cell_type": "code",
   "execution_count": 108,
   "id": "54d02c71",
   "metadata": {},
   "outputs": [
    {
     "data": {
      "text/plain": [
       "mpg                   21.5\n",
       "cylinders                3\n",
       "displacement          80.0\n",
       "horsepower           110.0\n",
       "weight                2720\n",
       "acceleration          13.5\n",
       "model_year              77\n",
       "origin               japan\n",
       "name            mazda rx-4\n",
       "Name: 243, dtype: object"
      ]
     },
     "execution_count": 108,
     "metadata": {},
     "output_type": "execute_result"
    }
   ],
   "source": [
    "mpg_data.loc[mpg_data['cylinders']==3].sort_values(by= 'horsepower',ascending=False).iloc[0]"
   ]
  },
  {
   "cell_type": "code",
   "execution_count": 109,
   "id": "37f688d0",
   "metadata": {},
   "outputs": [
    {
     "data": {
      "text/plain": [
       "mpg                  25.0\n",
       "cylinders               4\n",
       "displacement        121.0\n",
       "horsepower          115.0\n",
       "weight               2671\n",
       "acceleration         13.5\n",
       "model_year             75\n",
       "origin             europe\n",
       "name            saab 99le\n",
       "Name: 180, dtype: object"
      ]
     },
     "execution_count": 109,
     "metadata": {},
     "output_type": "execute_result"
    }
   ],
   "source": [
    "mpg_data.loc[mpg_data['cylinders']==4].sort_values(by= 'horsepower',ascending=False).iloc[0]\n"
   ]
  },
  {
   "cell_type": "code",
   "execution_count": 110,
   "id": "b3c65d25",
   "metadata": {},
   "outputs": [
    {
     "data": {
      "text/plain": [
       "mpg                  20.3\n",
       "cylinders               5\n",
       "displacement        131.0\n",
       "horsepower          103.0\n",
       "weight               2830\n",
       "acceleration         15.9\n",
       "model_year             78\n",
       "origin             europe\n",
       "name            audi 5000\n",
       "Name: 274, dtype: object"
      ]
     },
     "execution_count": 110,
     "metadata": {},
     "output_type": "execute_result"
    }
   ],
   "source": [
    "mpg_data.loc[mpg_data['cylinders']==5].sort_values(by= 'horsepower',ascending=False).iloc[0]"
   ]
  },
  {
   "cell_type": "code",
   "execution_count": 111,
   "id": "eaf0432c",
   "metadata": {},
   "outputs": [
    {
     "data": {
      "text/plain": [
       "mpg                                        17.7\n",
       "cylinders                                     6\n",
       "displacement                              231.0\n",
       "horsepower                                165.0\n",
       "weight                                     3445\n",
       "acceleration                               13.4\n",
       "model_year                                   78\n",
       "origin                                      usa\n",
       "name            buick regal sport coupe (turbo)\n",
       "Name: 263, dtype: object"
      ]
     },
     "execution_count": 111,
     "metadata": {},
     "output_type": "execute_result"
    }
   ],
   "source": [
    "mpg_data.loc[mpg_data['cylinders']==6].sort_values(by= 'horsepower',ascending=False).iloc[0]"
   ]
  },
  {
   "cell_type": "code",
   "execution_count": 112,
   "id": "84cf1a0c",
   "metadata": {},
   "outputs": [
    {
     "data": {
      "text/plain": [
       "mpg                           16.0\n",
       "cylinders                        8\n",
       "displacement                 400.0\n",
       "horsepower                   230.0\n",
       "weight                        4278\n",
       "acceleration                   9.5\n",
       "model_year                      73\n",
       "origin                         usa\n",
       "name            pontiac grand prix\n",
       "Name: 116, dtype: object"
      ]
     },
     "execution_count": 112,
     "metadata": {},
     "output_type": "execute_result"
    }
   ],
   "source": [
    "mpg_data.loc[mpg_data['cylinders']==8].sort_values(by= 'horsepower',ascending=False).iloc[0]\n"
   ]
  },
  {
   "cell_type": "code",
   "execution_count": 113,
   "id": "68be7d94",
   "metadata": {},
   "outputs": [],
   "source": [
    "from plotly.subplots import make_subplots\n",
    "from skimage import io\n",
    "\n",
    "path = \"../assets/\"\n",
    "\n",
    "images = ['1977_mazda_rx-4.jpg', '1980_mazda_rx-7.jpg', 'audi_5000.jpg',\n",
    "          'buick_regal_sport_coupe.jpg', 'harvester_intl_1200D.png',\n",
    "          'mazda_glc.png', 'pontiac_GP.jpg', 'pugeot_504.png', 'saab_99le.jpg']\n",
    "\n",
    "names = ['Powerful 3 cylinder car','Newer gen 3 cylinder car','Powerful 5 cylinder car',\n",
    "         'Powerful 6 cylinder car','Least fuel efficient in the dataset',\n",
    "         'Most fuel efficient in the dataset','Highest Horsepower in the dataset',\n",
    "         'Highest acceleration in the dataset','Powerful 4 cylinder car'\n",
    "        ]\n",
    "fig = make_subplots(rows=5, cols=2)\n",
    "subplots =  [(1,1),(1,2),(2,1),(2,2),(3,1),(3,2),(4,1),(4,2),(5,1),(5,2)] \n",
    "\n",
    "for i in range(len(images)):\n",
    "    row,cols=subplots[i]\n",
    "    img = io.imread(path + images[i])\n",
    "    fig.add_trace(go.Image(z=img), row=row, col=cols)\n",
    "    fig.update_xaxes(title_text = f\"{names[i]} : {images[i].split('.')[0]}\", row= row, col=cols, showticklabels=False)\n",
    "    fig.update_yaxes(showticklabels=False)\n",
    "# Layout\n",
    "fig.update_layout(title_text=\"Cars of different Categories\", height=int(1920*0.75), width=int(1440*0.75))\n",
    "fig.write_image(\"images/plt_1.png\")\n"
   ]
  },
  {
   "cell_type": "markdown",
   "id": "fb5069ce",
   "metadata": {},
   "source": [
    "![Plot 1](../images/plt_1.png)"
   ]
  },
  {
   "cell_type": "markdown",
   "id": "b9bb3d37",
   "metadata": {},
   "source": [
    "## Univariate Analysis"
   ]
  },
  {
   "cell_type": "markdown",
   "id": "a640aa90",
   "metadata": {},
   "source": [
    "## Graphs and Visualizations"
   ]
  },
  {
   "cell_type": "code",
   "execution_count": 114,
   "id": "c1593adc",
   "metadata": {},
   "outputs": [],
   "source": [
    "fig = px.histogram(data_frame=mpg_data, x='cylinders')\n",
    "fig.write_image(\"images/plt_2.png\")"
   ]
  },
  {
   "cell_type": "markdown",
   "id": "2a842769",
   "metadata": {},
   "source": [
    "![Plot 2](../images/plt_2.png)"
   ]
  },
  {
   "cell_type": "markdown",
   "id": "132f42fd",
   "metadata": {},
   "source": [
    "We can see from this chart that most Cars are **4, 6** or **8** cylinders. This might be due to even numbers of cylinders providing better manufacturing cost, efficiency or performance, due to which car manufacturers choose this configuration. \n",
    "\n",
    "A quick search gives us a good overview: [why-arent-there-seven-cylinder-engines](https://carbuzz.com/news/why-arent-there-seven-cylinder-engines/#:~:text=This%20is%20why%20even%20number,perfect%20option%20for%20most%20applications.). It turns out engines with odd configurations are rather unstable and have vibrations, making even configurations preferable for balance and smoothness.\n",
    "\n",
    "What we can also observe is that we have higher number of 4 cylinder cars in our data. One hypothesis might be that 4 cylinder cars are more fuel efficient. On the contrary it can also be that while 6 and 8 are more fuel efficient, they might be more expensive and hence less sought ought by average buyers. \n",
    "\n",
    "One final consideration to this line of thinking should be that the data collection might be uneven, giving us this particular distribution of cars; making both of our hypothesis completely invalid. "
   ]
  },
  {
   "cell_type": "code",
   "execution_count": 115,
   "id": "8f4e2eac",
   "metadata": {},
   "outputs": [],
   "source": [
    "\n",
    "fig = px.box(data_frame=mpg_data.sort_values(by='cylinders'), y=['horsepower'], facet_col='cylinders')\n",
    "fig.write_image(\"images/plt_3.png\")"
   ]
  },
  {
   "cell_type": "markdown",
   "id": "41ed5c85",
   "metadata": {},
   "source": [
    "![Plot 3](../images/plt_3.png)"
   ]
  },
  {
   "cell_type": "code",
   "execution_count": 116,
   "id": "77ca2ff1",
   "metadata": {},
   "outputs": [],
   "source": [
    "\n",
    "fig = px.box(data_frame=mpg_data.sort_values(by='cylinders'), y=['mpg'], facet_col='cylinders')\n",
    "fig.write_image(\"images/plt_4.png\")"
   ]
  },
  {
   "cell_type": "markdown",
   "id": "0ed5c020",
   "metadata": {},
   "source": [
    "![Plot 4](../images/plt_4.png)"
   ]
  },
  {
   "cell_type": "markdown",
   "id": "84286734",
   "metadata": {},
   "source": [
    "### Inspecting Outliers"
   ]
  },
  {
   "cell_type": "code",
   "execution_count": 117,
   "id": "029789d6",
   "metadata": {},
   "outputs": [
    {
     "data": {
      "text/html": [
       "<div>\n",
       "<style scoped>\n",
       "    .dataframe tbody tr th:only-of-type {\n",
       "        vertical-align: middle;\n",
       "    }\n",
       "\n",
       "    .dataframe tbody tr th {\n",
       "        vertical-align: top;\n",
       "    }\n",
       "\n",
       "    .dataframe thead th {\n",
       "        text-align: right;\n",
       "    }\n",
       "</style>\n",
       "<table border=\"1\" class=\"dataframe\">\n",
       "  <thead>\n",
       "    <tr style=\"text-align: right;\">\n",
       "      <th></th>\n",
       "      <th>mpg</th>\n",
       "      <th>cylinders</th>\n",
       "      <th>displacement</th>\n",
       "      <th>horsepower</th>\n",
       "      <th>weight</th>\n",
       "      <th>acceleration</th>\n",
       "      <th>model_year</th>\n",
       "      <th>origin</th>\n",
       "      <th>name</th>\n",
       "    </tr>\n",
       "  </thead>\n",
       "  <tbody>\n",
       "    <tr>\n",
       "      <th>1</th>\n",
       "      <td>15.0</td>\n",
       "      <td>8</td>\n",
       "      <td>350.0</td>\n",
       "      <td>165.0</td>\n",
       "      <td>3693</td>\n",
       "      <td>11.5</td>\n",
       "      <td>70</td>\n",
       "      <td>usa</td>\n",
       "      <td>buick skylark 320</td>\n",
       "    </tr>\n",
       "    <tr>\n",
       "      <th>38</th>\n",
       "      <td>14.0</td>\n",
       "      <td>8</td>\n",
       "      <td>350.0</td>\n",
       "      <td>165.0</td>\n",
       "      <td>4209</td>\n",
       "      <td>12.0</td>\n",
       "      <td>71</td>\n",
       "      <td>usa</td>\n",
       "      <td>chevrolet impala</td>\n",
       "    </tr>\n",
       "    <tr>\n",
       "      <th>62</th>\n",
       "      <td>13.0</td>\n",
       "      <td>8</td>\n",
       "      <td>350.0</td>\n",
       "      <td>165.0</td>\n",
       "      <td>4274</td>\n",
       "      <td>12.0</td>\n",
       "      <td>72</td>\n",
       "      <td>usa</td>\n",
       "      <td>chevrolet impala</td>\n",
       "    </tr>\n",
       "    <tr>\n",
       "      <th>263</th>\n",
       "      <td>17.7</td>\n",
       "      <td>6</td>\n",
       "      <td>231.0</td>\n",
       "      <td>165.0</td>\n",
       "      <td>3445</td>\n",
       "      <td>13.4</td>\n",
       "      <td>78</td>\n",
       "      <td>usa</td>\n",
       "      <td>buick regal sport coupe (turbo)</td>\n",
       "    </tr>\n",
       "  </tbody>\n",
       "</table>\n",
       "</div>"
      ],
      "text/plain": [
       "      mpg  cylinders  displacement  horsepower  weight  acceleration  \\\n",
       "1    15.0          8         350.0       165.0    3693          11.5   \n",
       "38   14.0          8         350.0       165.0    4209          12.0   \n",
       "62   13.0          8         350.0       165.0    4274          12.0   \n",
       "263  17.7          6         231.0       165.0    3445          13.4   \n",
       "\n",
       "     model_year origin                             name  \n",
       "1            70    usa                buick skylark 320  \n",
       "38           71    usa                 chevrolet impala  \n",
       "62           72    usa                 chevrolet impala  \n",
       "263          78    usa  buick regal sport coupe (turbo)  "
      ]
     },
     "execution_count": 117,
     "metadata": {},
     "output_type": "execute_result"
    }
   ],
   "source": [
    "mpg_data[mpg_data.horsepower == 165 ]"
   ]
  },
  {
   "cell_type": "code",
   "execution_count": 118,
   "id": "0abebac0",
   "metadata": {},
   "outputs": [
    {
     "data": {
      "text/html": [
       "<div>\n",
       "<style scoped>\n",
       "    .dataframe tbody tr th:only-of-type {\n",
       "        vertical-align: middle;\n",
       "    }\n",
       "\n",
       "    .dataframe tbody tr th {\n",
       "        vertical-align: top;\n",
       "    }\n",
       "\n",
       "    .dataframe thead th {\n",
       "        text-align: right;\n",
       "    }\n",
       "</style>\n",
       "<table border=\"1\" class=\"dataframe\">\n",
       "  <thead>\n",
       "    <tr style=\"text-align: right;\">\n",
       "      <th></th>\n",
       "      <th>mpg</th>\n",
       "      <th>cylinders</th>\n",
       "      <th>displacement</th>\n",
       "      <th>horsepower</th>\n",
       "      <th>weight</th>\n",
       "      <th>acceleration</th>\n",
       "      <th>model_year</th>\n",
       "      <th>origin</th>\n",
       "      <th>name</th>\n",
       "    </tr>\n",
       "  </thead>\n",
       "  <tbody>\n",
       "    <tr>\n",
       "      <th>116</th>\n",
       "      <td>16.0</td>\n",
       "      <td>8</td>\n",
       "      <td>400.0</td>\n",
       "      <td>230.0</td>\n",
       "      <td>4278</td>\n",
       "      <td>9.5</td>\n",
       "      <td>73</td>\n",
       "      <td>usa</td>\n",
       "      <td>pontiac grand prix</td>\n",
       "    </tr>\n",
       "  </tbody>\n",
       "</table>\n",
       "</div>"
      ],
      "text/plain": [
       "      mpg  cylinders  displacement  horsepower  weight  acceleration  \\\n",
       "116  16.0          8         400.0       230.0    4278           9.5   \n",
       "\n",
       "     model_year origin                name  \n",
       "116          73    usa  pontiac grand prix  "
      ]
     },
     "execution_count": 118,
     "metadata": {},
     "output_type": "execute_result"
    }
   ],
   "source": [
    "mpg_data[mpg_data.horsepower == 230 ]"
   ]
  },
  {
   "cell_type": "code",
   "execution_count": 119,
   "id": "a81ddf30",
   "metadata": {},
   "outputs": [
    {
     "data": {
      "text/html": [
       "<div>\n",
       "<style scoped>\n",
       "    .dataframe tbody tr th:only-of-type {\n",
       "        vertical-align: middle;\n",
       "    }\n",
       "\n",
       "    .dataframe tbody tr th {\n",
       "        vertical-align: top;\n",
       "    }\n",
       "\n",
       "    .dataframe thead th {\n",
       "        text-align: right;\n",
       "    }\n",
       "</style>\n",
       "<table border=\"1\" class=\"dataframe\">\n",
       "  <thead>\n",
       "    <tr style=\"text-align: right;\">\n",
       "      <th></th>\n",
       "      <th>mpg</th>\n",
       "      <th>cylinders</th>\n",
       "      <th>displacement</th>\n",
       "      <th>horsepower</th>\n",
       "      <th>weight</th>\n",
       "      <th>acceleration</th>\n",
       "      <th>model_year</th>\n",
       "      <th>origin</th>\n",
       "      <th>name</th>\n",
       "    </tr>\n",
       "  </thead>\n",
       "  <tbody>\n",
       "    <tr>\n",
       "      <th>387</th>\n",
       "      <td>38.0</td>\n",
       "      <td>6</td>\n",
       "      <td>262.0</td>\n",
       "      <td>85.0</td>\n",
       "      <td>3015</td>\n",
       "      <td>17.0</td>\n",
       "      <td>82</td>\n",
       "      <td>usa</td>\n",
       "      <td>oldsmobile cutlass ciera (diesel)</td>\n",
       "    </tr>\n",
       "  </tbody>\n",
       "</table>\n",
       "</div>"
      ],
      "text/plain": [
       "      mpg  cylinders  displacement  horsepower  weight  acceleration  \\\n",
       "387  38.0          6         262.0        85.0    3015          17.0   \n",
       "\n",
       "     model_year origin                               name  \n",
       "387          82    usa  oldsmobile cutlass ciera (diesel)  "
      ]
     },
     "execution_count": 119,
     "metadata": {},
     "output_type": "execute_result"
    }
   ],
   "source": [
    "mpg_data[(mpg_data.mpg == 38) & (mpg_data.cylinders == 6)]"
   ]
  },
  {
   "cell_type": "code",
   "execution_count": 120,
   "id": "9ace1811",
   "metadata": {},
   "outputs": [
    {
     "data": {
      "text/html": [
       "<div>\n",
       "<style scoped>\n",
       "    .dataframe tbody tr th:only-of-type {\n",
       "        vertical-align: middle;\n",
       "    }\n",
       "\n",
       "    .dataframe tbody tr th {\n",
       "        vertical-align: top;\n",
       "    }\n",
       "\n",
       "    .dataframe thead th {\n",
       "        text-align: right;\n",
       "    }\n",
       "</style>\n",
       "<table border=\"1\" class=\"dataframe\">\n",
       "  <thead>\n",
       "    <tr style=\"text-align: right;\">\n",
       "      <th></th>\n",
       "      <th>mpg</th>\n",
       "      <th>cylinders</th>\n",
       "      <th>displacement</th>\n",
       "      <th>horsepower</th>\n",
       "      <th>weight</th>\n",
       "      <th>acceleration</th>\n",
       "      <th>model_year</th>\n",
       "      <th>origin</th>\n",
       "      <th>name</th>\n",
       "    </tr>\n",
       "  </thead>\n",
       "  <tbody>\n",
       "    <tr>\n",
       "      <th>364</th>\n",
       "      <td>26.6</td>\n",
       "      <td>8</td>\n",
       "      <td>350.0</td>\n",
       "      <td>105.0</td>\n",
       "      <td>3725</td>\n",
       "      <td>19.0</td>\n",
       "      <td>81</td>\n",
       "      <td>usa</td>\n",
       "      <td>oldsmobile cutlass ls</td>\n",
       "    </tr>\n",
       "  </tbody>\n",
       "</table>\n",
       "</div>"
      ],
      "text/plain": [
       "      mpg  cylinders  displacement  horsepower  weight  acceleration  \\\n",
       "364  26.6          8         350.0       105.0    3725          19.0   \n",
       "\n",
       "     model_year origin                   name  \n",
       "364          81    usa  oldsmobile cutlass ls  "
      ]
     },
     "execution_count": 120,
     "metadata": {},
     "output_type": "execute_result"
    }
   ],
   "source": [
    "mpg_data[(mpg_data.mpg == 26.6) & (mpg_data.cylinders == 8)]"
   ]
  },
  {
   "cell_type": "markdown",
   "id": "6557cb6f",
   "metadata": {},
   "source": [
    "### Observations\n",
    "\n",
    "From these two graphs we can have some insights as to how:\n",
    "- **4 cylinder** cars have lower horsepower but are more fuel efficient.\n",
    "- **6 cylinder** cars seems to have a balanced horsepower and fuel consumption.\n",
    "-  On the contrary, **8 cylinder** cars have greater horsepower but are quite fuel hungry in general.\n",
    "\n",
    "All this seems to be in line with the hypothesis that the 3 and 5 cylinder engines are not very performant, giving relatively low horsepower over average fuel efficiency. The **4 cylinder** cars seem to have a good balance between horsepower and miles per gallon.\n",
    "\n",
    "### Spread and Outliers\n",
    "\n",
    "There is a varied mpg and horsepower observed in 8 cylinder cars meaning there are a regular cars and then there are muscle cars giving a greater range of mpgs and horsepowers.\n",
    "\n",
    "There are some outliers is both mpg and horsepower graphs. \n",
    "\n",
    "#### Muscle Cars\n",
    "The 6 cylinder **buick regal sport coupe (turbo)** is a muscle car giving a very high horsepower and comes in line with other average 8 cylinder cars. Similarly the 230hp **pontiac grand prix** is a 8 cylinder beast of a muscle car which explains the very high horsepower.\n",
    "\n",
    "#### Efficient Cars\n",
    "There are certain economy or diesel version of cars that make them exceptionally fuel efficient like the 6 cylinder **oldsmobile cutlass ciera (diesel)** or the 8 cylinder **oldsmobile cutlass ls**\n",
    "\n",
    "\n",
    "To get a more complete picture, we need to perform further analysis. Let us hence try to gather more insights from our data regarding engine performance with respect to number of cylinders, displacement, weight and country of origin."
   ]
  },
  {
   "cell_type": "code",
   "execution_count": 121,
   "id": "d6dcc4fc",
   "metadata": {},
   "outputs": [],
   "source": [
    "fig = px.histogram(data_frame=mpg_data, y = 'origin', color='origin')\n",
    "fig.write_image(\"images/plt_5.png\")"
   ]
  },
  {
   "cell_type": "markdown",
   "id": "6a0cd0ce",
   "metadata": {},
   "source": [
    "![Plot 5](../images/plt_5.png)"
   ]
  },
  {
   "cell_type": "markdown",
   "id": "08ea1fa9",
   "metadata": {},
   "source": [
    "Seems like most cars in our dataset are **USA** based and there are only two other origins i.e. **Japan** and **Europe**.\n",
    "We can now analyze our cars categoirically based on the countries. Let us see what differences cars of each country possess."
   ]
  },
  {
   "cell_type": "code",
   "execution_count": 122,
   "id": "6517b5b9",
   "metadata": {},
   "outputs": [],
   "source": [
    "fig = px.histogram(data_frame=mpg_data, x = 'model_year', facet_col='origin')\n",
    "fig.write_image(\"images/plt_6.png\")"
   ]
  },
  {
   "cell_type": "markdown",
   "id": "0e19e097",
   "metadata": {},
   "source": [
    "![Plot 6](../images/plt_6.png)"
   ]
  },
  {
   "cell_type": "code",
   "execution_count": 123,
   "id": "a969390b",
   "metadata": {},
   "outputs": [],
   "source": [
    "fig = px.box(data_frame=mpg_data, y = ['mpg', 'acceleration'], facet_col='origin')\n",
    "fig.write_image(\"images/plt_7.png\")"
   ]
  },
  {
   "cell_type": "markdown",
   "id": "a08393ec",
   "metadata": {},
   "source": [
    "![Plot 7](../images/plt_7.png)"
   ]
  },
  {
   "cell_type": "code",
   "execution_count": 124,
   "id": "9e77c5e5",
   "metadata": {},
   "outputs": [],
   "source": [
    "fig = px.box(data_frame=mpg_data, y = 'horsepower', facet_col='origin')\n",
    "fig.write_image(\"images/plt_8.png\")\n"
   ]
  },
  {
   "cell_type": "markdown",
   "id": "2794e7ce",
   "metadata": {},
   "source": [
    "![Plot 3](../images/plt_8.png)"
   ]
  },
  {
   "cell_type": "code",
   "execution_count": 125,
   "id": "83be4358",
   "metadata": {},
   "outputs": [
    {
     "data": {
      "text/html": [
       "<div>\n",
       "<style scoped>\n",
       "    .dataframe tbody tr th:only-of-type {\n",
       "        vertical-align: middle;\n",
       "    }\n",
       "\n",
       "    .dataframe tbody tr th {\n",
       "        vertical-align: top;\n",
       "    }\n",
       "\n",
       "    .dataframe thead th {\n",
       "        text-align: right;\n",
       "    }\n",
       "</style>\n",
       "<table border=\"1\" class=\"dataframe\">\n",
       "  <thead>\n",
       "    <tr style=\"text-align: right;\">\n",
       "      <th></th>\n",
       "      <th>origin</th>\n",
       "      <th>mean_horsepower</th>\n",
       "    </tr>\n",
       "  </thead>\n",
       "  <tbody>\n",
       "    <tr>\n",
       "      <th>0</th>\n",
       "      <td>europe</td>\n",
       "      <td>80.558824</td>\n",
       "    </tr>\n",
       "    <tr>\n",
       "      <th>1</th>\n",
       "      <td>japan</td>\n",
       "      <td>79.835443</td>\n",
       "    </tr>\n",
       "    <tr>\n",
       "      <th>2</th>\n",
       "      <td>usa</td>\n",
       "      <td>119.048980</td>\n",
       "    </tr>\n",
       "  </tbody>\n",
       "</table>\n",
       "</div>"
      ],
      "text/plain": [
       "   origin  mean_horsepower\n",
       "0  europe        80.558824\n",
       "1   japan        79.835443\n",
       "2     usa       119.048980"
      ]
     },
     "execution_count": 125,
     "metadata": {},
     "output_type": "execute_result"
    }
   ],
   "source": [
    "mpg_data.groupby('origin').agg(mean_horsepower = ('horsepower','mean')).reset_index()"
   ]
  },
  {
   "cell_type": "markdown",
   "id": "2e6dafa9",
   "metadata": {},
   "source": [
    "This shows us that Japanese cars are the most fuel efficient while USA has on average, more powerful cars. Also worth noting is that USA has a higher fence for hp meaning that there are car variants that are very powerful (muscle cars) which we see lacking in other countires."
   ]
  },
  {
   "cell_type": "markdown",
   "id": "0860808a",
   "metadata": {},
   "source": [
    "## Bivariate analysis"
   ]
  },
  {
   "cell_type": "code",
   "execution_count": 126,
   "id": "ab3bd57f",
   "metadata": {},
   "outputs": [],
   "source": [
    "fig = px.scatter(data_frame=mpg_data, x='cylinders', y = 'origin', color= 'origin')\n",
    "fig.write_image(\"images/plt_9.png\")"
   ]
  },
  {
   "cell_type": "markdown",
   "id": "fdd7042f",
   "metadata": {},
   "source": [
    "![Plot 9](../images/plt_9.png)"
   ]
  },
  {
   "cell_type": "markdown",
   "id": "2483fbf3",
   "metadata": {},
   "source": [
    "In the dataset, US based cars have a higher count of cylinders, while Japanese and European cars have lower cylinders, but innovate in 3 cylinder or 5 cylinder engines.\n",
    "This might be due to racing being more poular and prevalant in the US or due to road networks being better in the US with consumer culture demanding more powerful cars."
   ]
  },
  {
   "cell_type": "code",
   "execution_count": 127,
   "id": "540bd9c9",
   "metadata": {},
   "outputs": [],
   "source": [
    "#px.box(data_frame=mpg_data, x='mpg')\n",
    "fig = px.scatter(data_frame=mpg_data, x='model_year', y='mpg',facet_col='origin')\n",
    "fig.write_image(\"images/plt_10.png\")"
   ]
  },
  {
   "cell_type": "markdown",
   "id": "1e7876d2",
   "metadata": {},
   "source": [
    "![Plot 10](../images/plt_10.png)"
   ]
  },
  {
   "cell_type": "code",
   "execution_count": 128,
   "id": "a1da71a5",
   "metadata": {},
   "outputs": [
    {
     "data": {
      "text/html": [
       "<div>\n",
       "<style scoped>\n",
       "    .dataframe tbody tr th:only-of-type {\n",
       "        vertical-align: middle;\n",
       "    }\n",
       "\n",
       "    .dataframe tbody tr th {\n",
       "        vertical-align: top;\n",
       "    }\n",
       "\n",
       "    .dataframe thead th {\n",
       "        text-align: right;\n",
       "    }\n",
       "</style>\n",
       "<table border=\"1\" class=\"dataframe\">\n",
       "  <thead>\n",
       "    <tr style=\"text-align: right;\">\n",
       "      <th></th>\n",
       "      <th>model_year</th>\n",
       "      <th>average_mpg</th>\n",
       "    </tr>\n",
       "  </thead>\n",
       "  <tbody>\n",
       "    <tr>\n",
       "      <th>0</th>\n",
       "      <td>70</td>\n",
       "      <td>17.689655</td>\n",
       "    </tr>\n",
       "    <tr>\n",
       "      <th>1</th>\n",
       "      <td>71</td>\n",
       "      <td>21.111111</td>\n",
       "    </tr>\n",
       "    <tr>\n",
       "      <th>2</th>\n",
       "      <td>72</td>\n",
       "      <td>18.714286</td>\n",
       "    </tr>\n",
       "    <tr>\n",
       "      <th>3</th>\n",
       "      <td>73</td>\n",
       "      <td>17.100000</td>\n",
       "    </tr>\n",
       "    <tr>\n",
       "      <th>4</th>\n",
       "      <td>74</td>\n",
       "      <td>22.769231</td>\n",
       "    </tr>\n",
       "    <tr>\n",
       "      <th>5</th>\n",
       "      <td>75</td>\n",
       "      <td>20.266667</td>\n",
       "    </tr>\n",
       "    <tr>\n",
       "      <th>6</th>\n",
       "      <td>76</td>\n",
       "      <td>21.573529</td>\n",
       "    </tr>\n",
       "    <tr>\n",
       "      <th>7</th>\n",
       "      <td>77</td>\n",
       "      <td>23.375000</td>\n",
       "    </tr>\n",
       "    <tr>\n",
       "      <th>8</th>\n",
       "      <td>78</td>\n",
       "      <td>24.061111</td>\n",
       "    </tr>\n",
       "    <tr>\n",
       "      <th>9</th>\n",
       "      <td>79</td>\n",
       "      <td>25.093103</td>\n",
       "    </tr>\n",
       "    <tr>\n",
       "      <th>10</th>\n",
       "      <td>80</td>\n",
       "      <td>33.803704</td>\n",
       "    </tr>\n",
       "    <tr>\n",
       "      <th>11</th>\n",
       "      <td>81</td>\n",
       "      <td>30.185714</td>\n",
       "    </tr>\n",
       "    <tr>\n",
       "      <th>12</th>\n",
       "      <td>82</td>\n",
       "      <td>32.000000</td>\n",
       "    </tr>\n",
       "  </tbody>\n",
       "</table>\n",
       "</div>"
      ],
      "text/plain": [
       "    model_year  average_mpg\n",
       "0           70    17.689655\n",
       "1           71    21.111111\n",
       "2           72    18.714286\n",
       "3           73    17.100000\n",
       "4           74    22.769231\n",
       "5           75    20.266667\n",
       "6           76    21.573529\n",
       "7           77    23.375000\n",
       "8           78    24.061111\n",
       "9           79    25.093103\n",
       "10          80    33.803704\n",
       "11          81    30.185714\n",
       "12          82    32.000000"
      ]
     },
     "execution_count": 128,
     "metadata": {},
     "output_type": "execute_result"
    }
   ],
   "source": [
    "avg_group = pd.DataFrame()\n",
    "avg_group = mpg_data.groupby(by='model_year').agg(average_mpg = ('mpg', 'mean'))\n",
    "avg_group.reset_index()"
   ]
  },
  {
   "cell_type": "markdown",
   "id": "c5533380",
   "metadata": {},
   "source": [
    "A trend of mpg getting better across the years can be seen in all the countries."
   ]
  },
  {
   "cell_type": "code",
   "execution_count": 129,
   "id": "6652def2",
   "metadata": {},
   "outputs": [],
   "source": [
    "px.line(data_frame=avg_group,  y='average_mpg')\n",
    "fig.write_image(\"images/plt_11.png\")"
   ]
  },
  {
   "cell_type": "markdown",
   "id": "6c955813",
   "metadata": {},
   "source": [
    "![Plot 11](../images/plt_11.png)"
   ]
  },
  {
   "cell_type": "markdown",
   "id": "4c768784",
   "metadata": {},
   "source": [
    "Getting the ***average mpg*** for models that came out each year across all countries shows that there is actually a steady **increase** in the fuel efficiency across the years."
   ]
  },
  {
   "cell_type": "markdown",
   "id": "2fbb1649",
   "metadata": {},
   "source": [
    "## Company names\n",
    "\n",
    "Getting names of company to see the Distribution of Car according to company"
   ]
  },
  {
   "cell_type": "code",
   "execution_count": 130,
   "id": "fed2bc34",
   "metadata": {},
   "outputs": [],
   "source": [
    "def get_first_name(x):\n",
    "    full_name= x.split(' ')\n",
    "    company = full_name[0]\n",
    "    return company\n",
    "\n",
    "mpg_data['company']= mpg_data['name'].apply(lambda x: get_first_name(x))"
   ]
  },
  {
   "cell_type": "code",
   "execution_count": 131,
   "id": "593c52d9",
   "metadata": {},
   "outputs": [],
   "source": [
    "company_hist = px.histogram(data_frame= mpg_data, x='company')\n",
    "company_hist.write_image(\"images/plt_12.png\")"
   ]
  },
  {
   "cell_type": "markdown",
   "id": "c41acd84",
   "metadata": {},
   "source": [
    "![Plot 12](../images/plt_12.png)"
   ]
  },
  {
   "cell_type": "code",
   "execution_count": 132,
   "id": "1410d822",
   "metadata": {},
   "outputs": [
    {
     "data": {
      "text/html": [
       "<div>\n",
       "<style scoped>\n",
       "    .dataframe tbody tr th:only-of-type {\n",
       "        vertical-align: middle;\n",
       "    }\n",
       "\n",
       "    .dataframe tbody tr th {\n",
       "        vertical-align: top;\n",
       "    }\n",
       "\n",
       "    .dataframe thead th {\n",
       "        text-align: right;\n",
       "    }\n",
       "</style>\n",
       "<table border=\"1\" class=\"dataframe\">\n",
       "  <thead>\n",
       "    <tr style=\"text-align: right;\">\n",
       "      <th></th>\n",
       "      <th>company</th>\n",
       "      <th>mean_mpg</th>\n",
       "    </tr>\n",
       "  </thead>\n",
       "  <tbody>\n",
       "    <tr>\n",
       "      <th>36</th>\n",
       "      <td>vw</td>\n",
       "      <td>39.016667</td>\n",
       "    </tr>\n",
       "    <tr>\n",
       "      <th>21</th>\n",
       "      <td>nissan</td>\n",
       "      <td>36.000000</td>\n",
       "    </tr>\n",
       "    <tr>\n",
       "      <th>32</th>\n",
       "      <td>triumph</td>\n",
       "      <td>35.000000</td>\n",
       "    </tr>\n",
       "    <tr>\n",
       "      <th>15</th>\n",
       "      <td>honda</td>\n",
       "      <td>33.761538</td>\n",
       "    </tr>\n",
       "    <tr>\n",
       "      <th>10</th>\n",
       "      <td>datsun</td>\n",
       "      <td>31.113043</td>\n",
       "    </tr>\n",
       "  </tbody>\n",
       "</table>\n",
       "</div>"
      ],
      "text/plain": [
       "    company   mean_mpg\n",
       "36       vw  39.016667\n",
       "21   nissan  36.000000\n",
       "32  triumph  35.000000\n",
       "15    honda  33.761538\n",
       "10   datsun  31.113043"
      ]
     },
     "execution_count": 132,
     "metadata": {},
     "output_type": "execute_result"
    }
   ],
   "source": [
    "country_df= mpg_data.groupby('company').agg(mean_mpg = ('mpg','mean'))\n",
    "country_df.reset_index().sort_values(by='mean_mpg', ascending=False).head()"
   ]
  },
  {
   "cell_type": "code",
   "execution_count": 133,
   "id": "ba7ad5c5",
   "metadata": {},
   "outputs": [
    {
     "data": {
      "text/html": [
       "<div>\n",
       "<style scoped>\n",
       "    .dataframe tbody tr th:only-of-type {\n",
       "        vertical-align: middle;\n",
       "    }\n",
       "\n",
       "    .dataframe tbody tr th {\n",
       "        vertical-align: top;\n",
       "    }\n",
       "\n",
       "    .dataframe thead th {\n",
       "        text-align: right;\n",
       "    }\n",
       "</style>\n",
       "<table border=\"1\" class=\"dataframe\">\n",
       "  <thead>\n",
       "    <tr style=\"text-align: right;\">\n",
       "      <th></th>\n",
       "      <th>company</th>\n",
       "      <th>mean_horsepower</th>\n",
       "    </tr>\n",
       "  </thead>\n",
       "  <tbody>\n",
       "    <tr>\n",
       "      <th>14</th>\n",
       "      <td>hi</td>\n",
       "      <td>193.000000</td>\n",
       "    </tr>\n",
       "    <tr>\n",
       "      <th>9</th>\n",
       "      <td>chrysler</td>\n",
       "      <td>153.666667</td>\n",
       "    </tr>\n",
       "    <tr>\n",
       "      <th>4</th>\n",
       "      <td>cadillac</td>\n",
       "      <td>152.500000</td>\n",
       "    </tr>\n",
       "    <tr>\n",
       "      <th>8</th>\n",
       "      <td>chevy</td>\n",
       "      <td>142.333333</td>\n",
       "    </tr>\n",
       "    <tr>\n",
       "      <th>26</th>\n",
       "      <td>pontiac</td>\n",
       "      <td>136.937500</td>\n",
       "    </tr>\n",
       "  </tbody>\n",
       "</table>\n",
       "</div>"
      ],
      "text/plain": [
       "     company  mean_horsepower\n",
       "14        hi       193.000000\n",
       "9   chrysler       153.666667\n",
       "4   cadillac       152.500000\n",
       "8      chevy       142.333333\n",
       "26   pontiac       136.937500"
      ]
     },
     "execution_count": 133,
     "metadata": {},
     "output_type": "execute_result"
    }
   ],
   "source": [
    "country_df= mpg_data.groupby('company').agg(mean_horsepower = ('horsepower','mean'))\n",
    "country_df.reset_index().sort_values(by='mean_horsepower', ascending=False).head()"
   ]
  },
  {
   "cell_type": "markdown",
   "id": "9675fa42",
   "metadata": {},
   "source": [
    "## Bivariate Analysis of Numerical Data\n",
    "\n",
    "To gain proper insigts and explore, I wrote code to plot all values vs all other values."
   ]
  },
  {
   "cell_type": "code",
   "execution_count": 134,
   "id": "d62f57ba",
   "metadata": {},
   "outputs": [
    {
     "name": "stdout",
     "output_type": "stream",
     "text": [
      "['MPG vs CYLINDERS', 'MPG vs DISPLACEMENT', 'MPG vs HORSEPOWER', 'MPG vs WEIGHT', 'MPG vs ACCELERATION', 'MPG vs MODEL_YEAR']\n"
     ]
    }
   ],
   "source": [
    "from plotly.subplots import make_subplots\n",
    "\n",
    "col_names = ['mpg','cylinders','displacement','horsepower','weight','acceleration','model_year']\n",
    "graph_names = [f'{col_names[0].upper()} vs {x.upper()}' for x in col_names[1:]]\n",
    "print(graph_names)\n",
    "fig = make_subplots(rows=3,cols=2)\n",
    "subplots =  [(1,1),(1,2),(2,1),(2,2),(3,1),(3,2)] \n",
    "\n",
    "for i in range(1,len(col_names)):\n",
    "    row,col = subplots[i-1]\n",
    "    fig.add_trace(\n",
    "        go.Scatter(x=mpg_data[col_names[0]], y=mpg_data[col_names[i]], mode='markers',name=graph_names[i-1]),\n",
    "        row=row, col=col\n",
    "    )\n",
    "    fig.update_xaxes(title_text= col_names[0],row=row,col=col)\n",
    "    fig.update_yaxes(title_text= col_names[i],row=row,col=col)\n",
    "\n",
    "fig.update_layout(height=720, width=1080, title_text=f\"{col_names[0]} vs others\")\n",
    "fig.write_image(\"images/plt_13.png\")"
   ]
  },
  {
   "cell_type": "markdown",
   "id": "e26e0750",
   "metadata": {},
   "source": [
    "![Plot 13](../images/plt_13.png)"
   ]
  },
  {
   "cell_type": "markdown",
   "id": "4a812f5c",
   "metadata": {},
   "source": [
    "### Observations: mpg vs others\n",
    "\n",
    "From these graphs, we can make a number of Observations. \n",
    "- A trend that shows more number of cylinders reduces fuel efficiency.\n",
    "- Higher horsepower,displacement and weight show lower fuel efficiency.\n",
    "- Acceleration and mpg do not have a obvious relationship due to a highly scattered plot. We do see a proportional trend, which is quite counter intuitive.\n",
    "- As the years progress, cars are getting more fuel efficient."
   ]
  },
  {
   "cell_type": "code",
   "execution_count": null,
   "id": "adfe9ff1",
   "metadata": {},
   "outputs": [
    {
     "name": "stdout",
     "output_type": "stream",
     "text": [
      "['CYLINDERS vs DISPLACEMENT', 'CYLINDERS vs HORSEPOWER', 'CYLINDERS vs WEIGHT', 'CYLINDERS vs ACCELERATION', 'CYLINDERS vs MODEL_YEAR']\n"
     ]
    }
   ],
   "source": [
    "from plotly.subplots import make_subplots\n",
    "\n",
    "col_names = ['cylinders','displacement','horsepower','weight','acceleration','model_year']\n",
    "graph_names = [f'{col_names[0].upper()} vs {x.upper()}' for x in col_names[1:]]\n",
    "print(graph_names)\n",
    "fig = make_subplots(rows=3,cols=2)\n",
    "subplots =  [(1,1),(1,2),(2,1),(2,2),(3,1),(3,2)] \n",
    "\n",
    "for i in range(1,len(col_names)):\n",
    "    row,col = subplots[i-1]\n",
    "    fig.add_trace(\n",
    "        go.Scatter(y=mpg_data[col_names[0]], x=mpg_data[col_names[i]], mode='markers',name=graph_names[i-1]),\n",
    "        row=row, col=col\n",
    "    )\n",
    "    fig.update_yaxes(title_text= col_names[0],row=row,col=col)\n",
    "    fig.update_xaxes(title_text= col_names[i],row=row,col=col)\n",
    "\n",
    "fig.update_layout(height=720, width=1080, title_text=f\"{col_names[0]} vs others\")\n",
    "fig.write_image(\"images/plt_14.png\")"
   ]
  },
  {
   "cell_type": "markdown",
   "id": "6498d79f",
   "metadata": {},
   "source": [
    "![Plot 14](../images/plt_14.png)"
   ]
  },
  {
   "cell_type": "markdown",
   "id": "e3e36fe3",
   "metadata": {},
   "source": [
    "### Observations: Cylinders vs others\n",
    "We can see that more number of **cylinder** means higher **horse power**, more **displacement** and also a **heavier engine**. \n",
    "\n",
    "There is no clear relationship between the model year and the number of cylinders, indicating that cars with varying engine types were produced across all years. \n",
    "\n",
    "Checking out the **4 cylinder** engines, we observe that they give great fuel efficiency with light engines but with lower horse power. This could also mean they are both cheaper to manufacture and to use. This could explain why there are greater number of cars with 4 cylinder engines produced. \n",
    "\n",
    "We can not however, say for sure that these 4 cylinder cars are the most poular or most bought cars though. For that, we would need the sales data of these models to be certain.\n",
    "\n",
    "**6 cylinder engines** have a good balance of efficiency and horsepower. **8 cylinder engines** pack a punch with higher horsepower but guzzle a lot of fuel. The **8 cylinder** engines are some of the most powerful engines with very high horsepower. This makes sense as more cylinders will displace more fuel, producing more power but meaning lower fuel efficiency. At the same time bigger and heavier engines are needed to accomodate more number of cylinders."
   ]
  },
  {
   "cell_type": "code",
   "execution_count": 136,
   "id": "b7e06289",
   "metadata": {},
   "outputs": [
    {
     "name": "stdout",
     "output_type": "stream",
     "text": [
      "['DISPLACEMENT vs HORSEPOWER', 'DISPLACEMENT vs WEIGHT', 'DISPLACEMENT vs ACCELERATION', 'DISPLACEMENT vs MODEL_YEAR']\n"
     ]
    }
   ],
   "source": [
    "from plotly.subplots import make_subplots\n",
    "\n",
    "col_names = ['displacement','horsepower','weight','acceleration','model_year']\n",
    "graph_names = [f'{col_names[0].upper()} vs {x.upper()}' for x in col_names[1:]]\n",
    "print(graph_names)\n",
    "fig = make_subplots(rows=2,cols=2)\n",
    "subplots =  [(1,1),(1,2),(2,1),(2,2)] \n",
    "\n",
    "for i in range(1,len(col_names)):\n",
    "    row,col = subplots[i-1]\n",
    "    fig.add_trace(\n",
    "        go.Scatter(x=mpg_data[col_names[0]], y=mpg_data[col_names[i]], mode='markers',name=graph_names[i-1]),\n",
    "        row=row, col=col\n",
    "    )\n",
    "    fig.update_xaxes(title_text= col_names[0],row=row,col=col)\n",
    "    fig.update_yaxes(title_text= col_names[i],row=row,col=col)\n",
    "\n",
    "fig.update_layout(height=720, width=1080, title_text=f\"{col_names[0]} vs others\")\n",
    "fig.write_image(\"images/plt_15.png\")"
   ]
  },
  {
   "cell_type": "markdown",
   "id": "6d7c3d6d",
   "metadata": {},
   "source": [
    "![Plot 15](../images/plt_15.png)"
   ]
  },
  {
   "cell_type": "code",
   "execution_count": 137,
   "id": "9a125dd0",
   "metadata": {},
   "outputs": [
    {
     "name": "stdout",
     "output_type": "stream",
     "text": [
      "['HORSEPOWER vs WEIGHT', 'HORSEPOWER vs ACCELERATION', 'HORSEPOWER vs MODEL_YEAR']\n"
     ]
    }
   ],
   "source": [
    "from plotly.subplots import make_subplots\n",
    "\n",
    "col_names = ['horsepower','weight','acceleration','model_year']\n",
    "graph_names = [f'{col_names[0].upper()} vs {x.upper()}' for x in col_names[1:]]\n",
    "print(graph_names)\n",
    "fig = make_subplots(rows=2,cols=2)\n",
    "subplots =  [(1,1),(1,2),(2,1),(2,2)] \n",
    "\n",
    "for i in range(1,len(col_names)):\n",
    "    row,col = subplots[i-1]\n",
    "    fig.add_trace(\n",
    "        go.Scatter(x=mpg_data[col_names[0]], y=mpg_data[col_names[i]], mode='markers',name=graph_names[i-1]),\n",
    "        row=row, col=col\n",
    "    )\n",
    "    fig.update_xaxes(title_text= col_names[0],row=row,col=col)\n",
    "    fig.update_yaxes(title_text= col_names[i],row=row,col=col)\n",
    "\n",
    "fig.update_layout(height=720, width=1080, title_text=f\"{col_names[0]} vs others\")\n",
    "fig.write_image(\"images/plt_16.png\")"
   ]
  },
  {
   "cell_type": "markdown",
   "id": "535d8c28",
   "metadata": {},
   "source": [
    "![Plot 16](../images/plt_16.png)"
   ]
  },
  {
   "cell_type": "markdown",
   "id": "8515a950",
   "metadata": {},
   "source": [
    "### Observation: horsepower vs others & displacement vs others\n",
    "We can see the relationships between weight, displacement and horsepower, i.e\n",
    "\n",
    "**more displacement &rarr; more horsepower**\n",
    "\n",
    "**more displacement &rarr; more weight**\n",
    "\n",
    "meaning **higher horsepower** engines are **heavier** like we observed before.\n",
    "\n",
    "The relationshoip between acceleration and displacement and acceleration and horsepower is negatively proportional though. This is rather counter intuitive as you might think cars having higher horsepower/displacement should provide higher acceleration as well. But that is not the case at all. \n",
    "\n",
    "What we can also see is that newer models have lower horsepower.\n",
    "\n",
    "To make more sense out of this we can create a correlation heatmap and perform further multivariate analysis."
   ]
  },
  {
   "cell_type": "markdown",
   "id": "0a9ec18f",
   "metadata": {},
   "source": [
    "## CORRELATION HEATMAP"
   ]
  },
  {
   "cell_type": "code",
   "execution_count": 138,
   "id": "f54738f0",
   "metadata": {},
   "outputs": [
    {
     "data": {
      "text/html": [
       "<div>\n",
       "<style scoped>\n",
       "    .dataframe tbody tr th:only-of-type {\n",
       "        vertical-align: middle;\n",
       "    }\n",
       "\n",
       "    .dataframe tbody tr th {\n",
       "        vertical-align: top;\n",
       "    }\n",
       "\n",
       "    .dataframe thead th {\n",
       "        text-align: right;\n",
       "    }\n",
       "</style>\n",
       "<table border=\"1\" class=\"dataframe\">\n",
       "  <thead>\n",
       "    <tr style=\"text-align: right;\">\n",
       "      <th></th>\n",
       "      <th>mpg</th>\n",
       "      <th>cylinders</th>\n",
       "      <th>displacement</th>\n",
       "      <th>horsepower</th>\n",
       "      <th>weight</th>\n",
       "      <th>acceleration</th>\n",
       "      <th>model_year</th>\n",
       "    </tr>\n",
       "  </thead>\n",
       "  <tbody>\n",
       "    <tr>\n",
       "      <th>mpg</th>\n",
       "      <td>1.000000</td>\n",
       "      <td>-0.777618</td>\n",
       "      <td>-0.805127</td>\n",
       "      <td>-0.778427</td>\n",
       "      <td>-0.832244</td>\n",
       "      <td>0.423329</td>\n",
       "      <td>0.580541</td>\n",
       "    </tr>\n",
       "    <tr>\n",
       "      <th>cylinders</th>\n",
       "      <td>-0.777618</td>\n",
       "      <td>1.000000</td>\n",
       "      <td>0.950823</td>\n",
       "      <td>0.842983</td>\n",
       "      <td>0.897527</td>\n",
       "      <td>-0.504683</td>\n",
       "      <td>-0.345647</td>\n",
       "    </tr>\n",
       "    <tr>\n",
       "      <th>displacement</th>\n",
       "      <td>-0.805127</td>\n",
       "      <td>0.950823</td>\n",
       "      <td>1.000000</td>\n",
       "      <td>0.897257</td>\n",
       "      <td>0.932994</td>\n",
       "      <td>-0.543800</td>\n",
       "      <td>-0.369855</td>\n",
       "    </tr>\n",
       "    <tr>\n",
       "      <th>horsepower</th>\n",
       "      <td>-0.778427</td>\n",
       "      <td>0.842983</td>\n",
       "      <td>0.897257</td>\n",
       "      <td>1.000000</td>\n",
       "      <td>0.864538</td>\n",
       "      <td>-0.689196</td>\n",
       "      <td>-0.416361</td>\n",
       "    </tr>\n",
       "    <tr>\n",
       "      <th>weight</th>\n",
       "      <td>-0.832244</td>\n",
       "      <td>0.897527</td>\n",
       "      <td>0.932994</td>\n",
       "      <td>0.864538</td>\n",
       "      <td>1.000000</td>\n",
       "      <td>-0.416839</td>\n",
       "      <td>-0.309120</td>\n",
       "    </tr>\n",
       "    <tr>\n",
       "      <th>acceleration</th>\n",
       "      <td>0.423329</td>\n",
       "      <td>-0.504683</td>\n",
       "      <td>-0.543800</td>\n",
       "      <td>-0.689196</td>\n",
       "      <td>-0.416839</td>\n",
       "      <td>1.000000</td>\n",
       "      <td>0.290316</td>\n",
       "    </tr>\n",
       "    <tr>\n",
       "      <th>model_year</th>\n",
       "      <td>0.580541</td>\n",
       "      <td>-0.345647</td>\n",
       "      <td>-0.369855</td>\n",
       "      <td>-0.416361</td>\n",
       "      <td>-0.309120</td>\n",
       "      <td>0.290316</td>\n",
       "      <td>1.000000</td>\n",
       "    </tr>\n",
       "  </tbody>\n",
       "</table>\n",
       "</div>"
      ],
      "text/plain": [
       "                   mpg  cylinders  displacement  horsepower    weight  \\\n",
       "mpg           1.000000  -0.777618     -0.805127   -0.778427 -0.832244   \n",
       "cylinders    -0.777618   1.000000      0.950823    0.842983  0.897527   \n",
       "displacement -0.805127   0.950823      1.000000    0.897257  0.932994   \n",
       "horsepower   -0.778427   0.842983      0.897257    1.000000  0.864538   \n",
       "weight       -0.832244   0.897527      0.932994    0.864538  1.000000   \n",
       "acceleration  0.423329  -0.504683     -0.543800   -0.689196 -0.416839   \n",
       "model_year    0.580541  -0.345647     -0.369855   -0.416361 -0.309120   \n",
       "\n",
       "              acceleration  model_year  \n",
       "mpg               0.423329    0.580541  \n",
       "cylinders        -0.504683   -0.345647  \n",
       "displacement     -0.543800   -0.369855  \n",
       "horsepower       -0.689196   -0.416361  \n",
       "weight           -0.416839   -0.309120  \n",
       "acceleration      1.000000    0.290316  \n",
       "model_year        0.290316    1.000000  "
      ]
     },
     "execution_count": 138,
     "metadata": {},
     "output_type": "execute_result"
    }
   ],
   "source": [
    "correlation = mpg_data.select_dtypes('number').corr('pearson')\n",
    "correlation"
   ]
  },
  {
   "cell_type": "code",
   "execution_count": null,
   "id": "092416a8",
   "metadata": {},
   "outputs": [],
   "source": [
    "fig = px.imshow(correlation, text_auto=True, color_continuous_scale='thermal', aspect='auto')\n",
    "fig.write_image(\"../images/plt_17.png\")"
   ]
  },
  {
   "cell_type": "markdown",
   "id": "023b784b",
   "metadata": {},
   "source": [
    "![Plot 17](../images/plt_17.png)"
   ]
  },
  {
   "cell_type": "markdown",
   "id": "3c2cc121",
   "metadata": {},
   "source": [
    "The correlation heatmaps confirms the relation between **cylinder, displacement, horsepower and weight.**\n",
    "We also see that these affect mpg negatively as expected.\n",
    "\n",
    "We can also see that there is a fair relationship between mpg and model years, meaning newer models tend to be fuel efficient.\n",
    "\n",
    "But then acceleration is negatively proportional to cylinder, displacement, horsepower and weight, which is still unexplained.\n",
    "Whats more, there is a weakly positive relation between acceleration and mpg meaning higher acceleration gives better mileage, which is not logical."
   ]
  },
  {
   "cell_type": "code",
   "execution_count": 140,
   "id": "ad967a5e",
   "metadata": {},
   "outputs": [],
   "source": [
    "fig= px.scatter(data_frame=mpg_data, x='horsepower', y='mpg', color= 'model_year')\n",
    "fig.write_image(\"images/plt_18.png\")"
   ]
  },
  {
   "cell_type": "markdown",
   "id": "93d0f16a",
   "metadata": {},
   "source": [
    "![Plot 18](../images/plt_18.png)"
   ]
  },
  {
   "cell_type": "markdown",
   "id": "57513dde",
   "metadata": {},
   "source": [
    "From this plot we can confirm that newer models are more efficient than the older ones. However, we can see that the newer models also have lower horsepower."
   ]
  },
  {
   "cell_type": "code",
   "execution_count": 141,
   "id": "b2f15040",
   "metadata": {},
   "outputs": [],
   "source": [
    "fig= px.scatter(data_frame=mpg_data, x='weight', y='horsepower', color= 'model_year')\n",
    "fig.write_image(\"images/plt_19.png\")"
   ]
  },
  {
   "cell_type": "markdown",
   "id": "2aece401",
   "metadata": {},
   "source": [
    "![Plot 19](../images/plt_19.png)"
   ]
  },
  {
   "cell_type": "markdown",
   "id": "4b01b6da",
   "metadata": {},
   "source": [
    "With this graph we find that heavier models are all older models, which also have a lot of horse power. The newer models are not only fuel efficient but are lighter and provide lower power output. \n",
    "\n",
    "This raises a questions as why the companies would build such cars with low power and weight but better fuel efficiency?"
   ]
  },
  {
   "cell_type": "code",
   "execution_count": 142,
   "id": "65476995",
   "metadata": {},
   "outputs": [],
   "source": [
    "fig= px.scatter(data_frame=mpg_data, x='horsepower', y='acceleration', color= 'model_year')\n",
    "fig.write_image(\"images/plt_20.png\")"
   ]
  },
  {
   "cell_type": "markdown",
   "id": "63d5ee4e",
   "metadata": {},
   "source": [
    "![Plot 20](../images/plt_20.png)"
   ]
  },
  {
   "cell_type": "markdown",
   "id": "f22e46d0",
   "metadata": {},
   "source": [
    "This tells us almost all new models have low horse power but high acceleration. Even though there were some older models that had low horsepower/high acceleration."
   ]
  },
  {
   "cell_type": "code",
   "execution_count": 143,
   "id": "cae2065f",
   "metadata": {},
   "outputs": [],
   "source": [
    "px.scatter(data_frame=mpg_data, x='weight', y='acceleration', color= 'horsepower', color_continuous_scale='temps')\n",
    "fig.write_image(\"images/plt_21.png\")"
   ]
  },
  {
   "cell_type": "markdown",
   "id": "4d520a79",
   "metadata": {},
   "source": [
    "![Plot 21](../images/plt_21.png)"
   ]
  },
  {
   "cell_type": "markdown",
   "id": "8611166f",
   "metadata": {},
   "source": [
    "Higher horsepower cars are almost always rather heavy with lower acceleration."
   ]
  },
  {
   "cell_type": "code",
   "execution_count": 144,
   "id": "30886712",
   "metadata": {},
   "outputs": [],
   "source": [
    "cyl = mpg_data.groupby('model_year').aggregate(avg_no_of_cylinders = ('cylinders','mean'), avg_mpg=('mpg','mean') ).reset_index()\n",
    "fig = px.scatter(data_frame=cyl, x='model_year', y='avg_no_of_cylinders', color='avg_mpg')\n",
    "fig.write_image(\"images/plt_22.png\")"
   ]
  },
  {
   "cell_type": "markdown",
   "id": "8d6eb888",
   "metadata": {},
   "source": [
    "![Plot 22](../images/plt_22.png)"
   ]
  },
  {
   "cell_type": "markdown",
   "id": "a4a2d6cc",
   "metadata": {},
   "source": [
    "Newer cars have fewer no of cylinders on average."
   ]
  },
  {
   "cell_type": "markdown",
   "id": "8b12ad5c",
   "metadata": {},
   "source": [
    "These final graphs give us answers to a few questions we were asking.\n",
    "\n",
    "---\n",
    "\n",
    "## Conclusions\n",
    "\n",
    "### Why would acceleration increase when horsepower is decreasing?\n",
    "\n",
    "Newer cars have higher acceleration despite lower horsepower. And along with good acceleration, these cars are also fuel efficient.\n",
    " \n",
    "Turns out the acceleration in cars are increasing beacuse cars are getting lighter, requiring less power to accelerate.\n",
    "\n",
    "\n",
    "### Why did the companies start making lower power, fuel efficient cars?\n",
    "\n",
    " This data does make it clear that cars do not only need raw horsepower. They can be fast and fuel efficient even with lower horsepower. With fuel emmisions being a major concern and major technological breakthroughs, it is compeletely sensible now that the companies chose to make their cars this way. What is more that the cars could be cheaper with less materials being used and the car would be less expensive to operate for the customers as well all while being better for the environment. \n",
    "\n",
    "There might be several factors that the data does not capture. The newer cars would have better technology like lighter materials, aerodynamics, better fuel composition and better engineering as well. But the fact is that car companies did make lighter, fuel efficient cars earlier too; only that they chose to keep making newer cars that were lower power and less fuel hungry.\n",
    "\n",
    "### Why are there so many 4 cylinder cars?\n",
    "\n",
    "This falls in line with the fact that the newer models have on average lower number of cylinders. This also makes us understand as why there are more number of 4 cylinder cars which are the lightest and most fuel efficient, with better stability, lower vibration and possibly the cost.\n"
   ]
  }
 ],
 "metadata": {
  "kernelspec": {
   "display_name": ".venv",
   "language": "python",
   "name": "python3"
  },
  "language_info": {
   "codemirror_mode": {
    "name": "ipython",
    "version": 3
   },
   "file_extension": ".py",
   "mimetype": "text/x-python",
   "name": "python",
   "nbconvert_exporter": "python",
   "pygments_lexer": "ipython3",
   "version": "3.12.4"
  }
 },
 "nbformat": 4,
 "nbformat_minor": 5
}
